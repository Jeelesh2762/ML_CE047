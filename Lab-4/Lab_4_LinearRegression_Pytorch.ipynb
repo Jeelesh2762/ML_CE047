{
  "nbformat": 4,
  "nbformat_minor": 0,
  "metadata": {
    "colab": {
      "name": "Lab_4_LinearRegression_PDF-2.ipynb",
      "provenance": [],
      "collapsed_sections": []
    },
    "kernelspec": {
      "name": "python3",
      "display_name": "Python 3"
    },
    "language_info": {
      "name": "python"
    },
    "accelerator": "GPU"
  },
  "cells": [
    {
      "cell_type": "code",
      "execution_count": 514,
      "metadata": {
        "id": "qbXGZdoC6jnh"
      },
      "outputs": [],
      "source": [
        "import torch\n",
        "import torch.nn as nn\n",
        "import numpy as np\n",
        "import matplotlib.pyplot as plt\n",
        "from torch.autograd import Variable"
      ]
    },
    {
      "cell_type": "markdown",
      "source": [
        "### Defining data and converting to pytorch tensors"
      ],
      "metadata": {
        "id": "wZS5ngoaKw6t"
      }
    },
    {
      "cell_type": "code",
      "source": [
        "inputs = np.array([[73, 67, 43], [91, 88, 64], [87, 134, 58], [102, 43, 37],\n",
        "                   [69, 96, 70], [73, 67, 43], [91, 88, 64], [87, 134, 58], \n",
        "                   [102, 43, 37], [69,96, 70], [73, 67, 43], [91, 88, 64], \n",
        "                   [87, 134, 58], [102, 43, 37], [69, 96,70]], dtype='float32')\n",
        "targets = np.array([[56, 70], [81, 101], [119, 133], [22, 37], [103, 119],\n",
        "[56, 70], [81, 101], [119, 133], [22, 37], [103, 119],\n",
        "[56, 70], [81, 101], [119, 133], [22, 37], [103, 119]]\n",
        ",dtype='float32')\n",
        "inputs = torch.from_numpy(inputs)\n",
        "targets = torch.from_numpy(targets)"
      ],
      "metadata": {
        "id": "yxxXYNrVF8nm"
      },
      "execution_count": 515,
      "outputs": []
    },
    {
      "cell_type": "markdown",
      "source": [
        "### Splitting the data in train and test"
      ],
      "metadata": {
        "id": "kR_rfLHyK6oy"
      }
    },
    {
      "cell_type": "code",
      "source": [
        "from sklearn.model_selection import train_test_split\n",
        "X_train,X_test,y_train,y_test = train_test_split(inputs,targets,test_size = 0.3,random_state=47)"
      ],
      "metadata": {
        "id": "qh4GkskWHAH1"
      },
      "execution_count": 516,
      "outputs": []
    },
    {
      "cell_type": "markdown",
      "source": [
        "### Creating a dataloader for loading data while training"
      ],
      "metadata": {
        "id": "vKfAvq1ELBUy"
      }
    },
    {
      "cell_type": "code",
      "source": [
        "from torch.utils.data import TensorDataset, DataLoader\n",
        "dataset = TensorDataset(X_train,y_train)\n",
        "loader = DataLoader(dataset=dataset)"
      ],
      "metadata": {
        "id": "7T2wbp27HK8z"
      },
      "execution_count": 517,
      "outputs": []
    },
    {
      "cell_type": "markdown",
      "source": [
        "### Defining Linear Regression Class"
      ],
      "metadata": {
        "id": "_I6XxEc_LI1L"
      }
    },
    {
      "cell_type": "code",
      "source": [
        "class LinearRegression(nn.Module):\n",
        "  def __init__(self,input_dim,output_dim):\n",
        "    super(LinearRegression,self).__init__()\n",
        "    self.linear_input = nn.Linear(in_features=input_dim, out_features=512)\n",
        "    self.linear_out = nn.Linear(in_features=512, out_features=output_dim)\n",
        "\n",
        "  \n",
        "  def forward(self,x):\n",
        "    out = self.linear_input(x)\n",
        "    out = self.linear_out(out)\n",
        "    return out\n"
      ],
      "metadata": {
        "id": "zyFgLnqXJiM3"
      },
      "execution_count": 518,
      "outputs": []
    },
    {
      "cell_type": "code",
      "source": [
        "# Defining the hyperparameters.\n",
        "INPUT_DIMENSION = 3\n",
        "OUTPUT_DIMENSION = 2\n",
        "LR = 0.00009\n",
        "\n",
        "EPOCHS = 225\n"
      ],
      "metadata": {
        "id": "DrDSwH_cKj41"
      },
      "execution_count": 519,
      "outputs": []
    },
    {
      "cell_type": "code",
      "source": [
        "lr = LinearRegression(INPUT_DIMENSION,OUTPUT_DIMENSION)"
      ],
      "metadata": {
        "id": "MoVJBZc_LF_c"
      },
      "execution_count": 520,
      "outputs": []
    },
    {
      "cell_type": "code",
      "source": [
        "LOSS_FN = nn.MSELoss()\n",
        "OPTIMIZER =  torch.optim.Adam(lr.parameters(), lr=LR)"
      ],
      "metadata": {
        "id": "8krWPFjtK4aK"
      },
      "execution_count": 521,
      "outputs": []
    },
    {
      "cell_type": "code",
      "source": [
        "def fit(lr,EPOCHS,LOSS_FN,OPTIMIZER,loader):\n",
        "  converted_losses = []\n",
        "  all_losses = []\n",
        "  for i in range(EPOCHS):\n",
        "    batch_losses = []\n",
        "    for idx,(X,Y) in enumerate(loader):\n",
        "      features = Variable(X).float()\n",
        "      targets = Variable(Y).float()\n",
        "\n",
        "      #  Forward pass\n",
        "      predictions = lr(features)\n",
        "      loss = LOSS_FN(predictions,targets)\n",
        "\n",
        "      OPTIMIZER.zero_grad()\n",
        "      loss.backward()\n",
        "      OPTIMIZER.step()\n",
        "      batch_losses.append(loss.data)\n",
        "      all_losses.append(loss.data)\n",
        "      # print(loss.data)\n",
        "    mbl = np.mean(np.sqrt(batch_losses)).round(3)\n",
        "    converted_losses.append(mbl)\n",
        "    if i%5==0:\n",
        "      print(\"Epoch [{}/{}], Batch loss: {}\".format(i, EPOCHS, mbl))\n",
        "  return converted_losses\n",
        "  "
      ],
      "metadata": {
        "id": "rGnvlf6jLLxW"
      },
      "execution_count": 522,
      "outputs": []
    },
    {
      "cell_type": "code",
      "source": [
        "converted_losses = fit(lr,EPOCHS,LOSS_FN,OPTIMIZER,loader)"
      ],
      "metadata": {
        "colab": {
          "base_uri": "https://localhost:8080/"
        },
        "id": "40mPS-txyMgb",
        "outputId": "aabb15b0-2b35-4d4f-9309-e1695c12d747"
      },
      "execution_count": 523,
      "outputs": [
        {
          "output_type": "stream",
          "name": "stdout",
          "text": [
            "Epoch [0/225], Batch loss: 71.9739990234375\n",
            "Epoch [5/225], Batch loss: 21.95599937438965\n",
            "Epoch [10/225], Batch loss: 14.114999771118164\n",
            "Epoch [15/225], Batch loss: 11.76200008392334\n",
            "Epoch [20/225], Batch loss: 9.661999702453613\n",
            "Epoch [25/225], Batch loss: 7.927999973297119\n",
            "Epoch [30/225], Batch loss: 6.607999801635742\n",
            "Epoch [35/225], Batch loss: 5.663000106811523\n",
            "Epoch [40/225], Batch loss: 4.97599983215332\n",
            "Epoch [45/225], Batch loss: 4.447999954223633\n",
            "Epoch [50/225], Batch loss: 4.026000022888184\n",
            "Epoch [55/225], Batch loss: 3.678999900817871\n",
            "Epoch [60/225], Batch loss: 3.385999917984009\n",
            "Epoch [65/225], Batch loss: 3.13100004196167\n",
            "Epoch [70/225], Batch loss: 2.9049999713897705\n",
            "Epoch [75/225], Batch loss: 2.697999954223633\n",
            "Epoch [80/225], Batch loss: 2.50600004196167\n",
            "Epoch [85/225], Batch loss: 2.3259999752044678\n",
            "Epoch [90/225], Batch loss: 2.1570000648498535\n",
            "Epoch [95/225], Batch loss: 1.9980000257492065\n",
            "Epoch [100/225], Batch loss: 1.8489999771118164\n",
            "Epoch [105/225], Batch loss: 1.7100000381469727\n",
            "Epoch [110/225], Batch loss: 1.5820000171661377\n",
            "Epoch [115/225], Batch loss: 1.4630000591278076\n",
            "Epoch [120/225], Batch loss: 1.3559999465942383\n",
            "Epoch [125/225], Batch loss: 1.2580000162124634\n",
            "Epoch [130/225], Batch loss: 1.1710000038146973\n",
            "Epoch [135/225], Batch loss: 1.093000054359436\n",
            "Epoch [140/225], Batch loss: 1.0240000486373901\n",
            "Epoch [145/225], Batch loss: 0.9639999866485596\n",
            "Epoch [150/225], Batch loss: 0.9120000004768372\n",
            "Epoch [155/225], Batch loss: 0.8659999966621399\n",
            "Epoch [160/225], Batch loss: 0.828000009059906\n",
            "Epoch [165/225], Batch loss: 0.7940000295639038\n",
            "Epoch [170/225], Batch loss: 0.7670000195503235\n",
            "Epoch [175/225], Batch loss: 0.7440000176429749\n",
            "Epoch [180/225], Batch loss: 0.7250000238418579\n",
            "Epoch [185/225], Batch loss: 0.7099999785423279\n",
            "Epoch [190/225], Batch loss: 0.6990000009536743\n",
            "Epoch [195/225], Batch loss: 0.6909999847412109\n",
            "Epoch [200/225], Batch loss: 0.6859999895095825\n",
            "Epoch [205/225], Batch loss: 0.6830000281333923\n",
            "Epoch [210/225], Batch loss: 0.6819999814033508\n",
            "Epoch [215/225], Batch loss: 0.6819999814033508\n",
            "Epoch [220/225], Batch loss: 0.6819999814033508\n"
          ]
        }
      ]
    },
    {
      "cell_type": "code",
      "source": [
        "plt.plot(converted_losses)"
      ],
      "metadata": {
        "colab": {
          "base_uri": "https://localhost:8080/",
          "height": 282
        },
        "id": "rtMiya-I6kxC",
        "outputId": "e7c56a76-d5a9-4834-edf0-e78563721003"
      },
      "execution_count": 524,
      "outputs": [
        {
          "output_type": "execute_result",
          "data": {
            "text/plain": [
              "[<matplotlib.lines.Line2D at 0x7f385cd4a750>]"
            ]
          },
          "metadata": {},
          "execution_count": 524
        },
        {
          "output_type": "display_data",
          "data": {
            "image/png": "[encoded data removed]",
            "text/plain": [
              "<Figure size 432x288 with 1 Axes>"
            ]
          },
          "metadata": {
            "needs_background": "light"
          }
        }
      ]
    },
    {
      "cell_type": "code",
      "source": [
        "plt.plot(converted_losses[100:]) # Printing losses from 100th epoch"
      ],
      "metadata": {
        "id": "L7Jr8W156-Hn",
        "colab": {
          "base_uri": "https://localhost:8080/",
          "height": 282
        },
        "outputId": "8064b26b-eff7-4832-f0dc-290fff6ddc7a"
      },
      "execution_count": 525,
      "outputs": [
        {
          "output_type": "execute_result",
          "data": {
            "text/plain": [
              "[<matplotlib.lines.Line2D at 0x7f385ccb9850>]"
            ]
          },
          "metadata": {},
          "execution_count": 525
        },
        {
          "output_type": "display_data",
          "data": {
            "image/png": "[encoded data removed]",
            "text/plain": [
              "<Figure size 432x288 with 1 Axes>"
            ]
          },
          "metadata": {
            "needs_background": "light"
          }
        }
      ]
    },
    {
      "cell_type": "code",
      "source": [
        "test_preds = lr(X_test)"
      ],
      "metadata": {
        "id": "OVIHgrCMIFo0"
      },
      "execution_count": 526,
      "outputs": []
    },
    {
      "cell_type": "code",
      "source": [
        "test_loss = LOSS_FN(test_preds,y_test)\n",
        "print(\"Test Loss\",test_loss.detach().numpy())"
      ],
      "metadata": {
        "colab": {
          "base_uri": "https://localhost:8080/"
        },
        "id": "N-dTrHo9IJvj",
        "outputId": "d3b743a5-1b13-4b78-af71-1f76e178a838"
      },
      "execution_count": 527,
      "outputs": [
        {
          "output_type": "stream",
          "name": "stdout",
          "text": [
            "Test Loss 0.51968616\n"
          ]
        }
      ]
    },
    {
      "cell_type": "code",
      "source": [
        "X_test # picking a tensor from x test lets say index 0 i.e => [ 69.,  96.,  70.]"
      ],
      "metadata": {
        "colab": {
          "base_uri": "https://localhost:8080/"
        },
        "id": "vYOPVbKpISjD",
        "outputId": "71db6d9f-8f3e-435e-f9f3-2ba0507960f7"
      },
      "execution_count": 528,
      "outputs": [
        {
          "output_type": "execute_result",
          "data": {
            "text/plain": [
              "tensor([[ 69.,  96.,  70.],\n",
              "        [ 73.,  67.,  43.],\n",
              "        [ 87., 134.,  58.],\n",
              "        [102.,  43.,  37.],\n",
              "        [ 91.,  88.,  64.]])"
            ]
          },
          "metadata": {},
          "execution_count": 528
        }
      ]
    },
    {
      "cell_type": "code",
      "source": [
        "y_test # Confirming the outputs of index 0 i.e => [103., 119.] "
      ],
      "metadata": {
        "colab": {
          "base_uri": "https://localhost:8080/"
        },
        "id": "VRfGO_imIwIU",
        "outputId": "7458d3ca-afa8-45c4-9410-f605f476e14e"
      },
      "execution_count": 529,
      "outputs": [
        {
          "output_type": "execute_result",
          "data": {
            "text/plain": [
              "tensor([[103., 119.],\n",
              "        [ 56.,  70.],\n",
              "        [119., 133.],\n",
              "        [ 22.,  37.],\n",
              "        [ 81., 101.]])"
            ]
          },
          "metadata": {},
          "execution_count": 529
        }
      ]
    },
    {
      "cell_type": "code",
      "source": [
        "test_preds \n",
        "# we can see at the index 0 => [101.8740, 119.0757]\n",
        "# the answer is 101.8740 ≈ 102.(Correct was 103.) and 119.0757 ≈ 119. (Correct was 119.)\n",
        "# We can see the model performed very less error on testing data hence it is a accurate model"
      ],
      "metadata": {
        "colab": {
          "base_uri": "https://localhost:8080/"
        },
        "id": "B_b6GxLEID00",
        "outputId": "5fea7d1f-18b6-4dc2-b0ff-bfa614b80658"
      },
      "execution_count": 538,
      "outputs": [
        {
          "output_type": "execute_result",
          "data": {
            "text/plain": [
              "tensor([[101.8740, 119.0757],\n",
              "        [ 57.1889,  70.3481],\n",
              "        [118.7555, 133.0379],\n",
              "        [ 21.1174,  37.0573],\n",
              "        [ 82.1887, 100.6364]], grad_fn=<AddmmBackward0>)"
            ]
          },
          "metadata": {},
          "execution_count": 538
        }
      ]
    }
  ]
}